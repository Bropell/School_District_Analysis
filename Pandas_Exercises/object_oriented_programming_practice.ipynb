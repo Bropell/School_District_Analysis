{
 "cells": [
  {
   "cell_type": "code",
   "execution_count": 2,
   "id": "8960c655",
   "metadata": {},
   "outputs": [
    {
     "data": {
      "text/plain": [
       "'Felix'"
      ]
     },
     "execution_count": 2,
     "metadata": {},
     "output_type": "execute_result"
    }
   ],
   "source": [
    "class Cat:\n",
    "\n",
    "    def __init__(self, name):\n",
    "\n",
    "        self.name = name\n",
    "\n",
    "\n",
    "# Initiate an object for the Cat class\n",
    "        \n",
    "first_cat = Cat('Felix')\n",
    "\n",
    "first_cat.name"
   ]
  },
  {
   "cell_type": "code",
   "execution_count": 3,
   "id": "8525a573",
   "metadata": {},
   "outputs": [
    {
     "data": {
      "text/plain": [
       "'Garfield'"
      ]
     },
     "execution_count": 3,
     "metadata": {},
     "output_type": "execute_result"
    }
   ],
   "source": [
    "# Initiate another object for the Cat class\n",
    "\n",
    "second_cat = Cat('Garfield')\n",
    "\n",
    "second_cat.name"
   ]
  },
  {
   "cell_type": "code",
   "execution_count": 4,
   "id": "62503f8b",
   "metadata": {},
   "outputs": [],
   "source": [
    "class Dog:\n",
    "    \n",
    "    def __init__(self, name, color, sound):\n",
    "        \n",
    "        self.name = name\n",
    "        \n",
    "        self.color = color\n",
    "        \n",
    "        self.sound = sound\n",
    "        \n",
    "        \n",
    "    def bark(self):\n",
    "        \n",
    "        return self.sound + \" \" + self.sound"
   ]
  },
  {
   "cell_type": "code",
   "execution_count": 5,
   "id": "bf6061f3",
   "metadata": {},
   "outputs": [
    {
     "data": {
      "text/plain": [
       "'Fido'"
      ]
     },
     "execution_count": 5,
     "metadata": {},
     "output_type": "execute_result"
    }
   ],
   "source": [
    "# Initiate an object for the Dog class\n",
    "\n",
    "first_dog = Dog(\"Fido\", \"brown\", \"woof!\")\n",
    "\n",
    "first_dog.name"
   ]
  },
  {
   "cell_type": "code",
   "execution_count": 6,
   "id": "1c478e8c",
   "metadata": {},
   "outputs": [
    {
     "data": {
      "text/plain": [
       "'brown'"
      ]
     },
     "execution_count": 6,
     "metadata": {},
     "output_type": "execute_result"
    }
   ],
   "source": [
    "first_dog.color"
   ]
  },
  {
   "cell_type": "code",
   "execution_count": 7,
   "id": "fdbe8d46",
   "metadata": {},
   "outputs": [
    {
     "data": {
      "text/plain": [
       "'woof! woof!'"
      ]
     },
     "execution_count": 7,
     "metadata": {},
     "output_type": "execute_result"
    }
   ],
   "source": [
    "first_dog.bark()"
   ]
  },
  {
   "cell_type": "code",
   "execution_count": 8,
   "id": "a75f7bf8",
   "metadata": {},
   "outputs": [
    {
     "data": {
      "text/plain": [
       "'arf! arf!'"
      ]
     },
     "execution_count": 8,
     "metadata": {},
     "output_type": "execute_result"
    }
   ],
   "source": [
    "# Initiate another object for the Dog class\n",
    "\n",
    "second_dog = Dog(\"Lady\", \"blonde\", \"arf!\")\n",
    "\n",
    "second_dog.bark()"
   ]
  },
  {
   "cell_type": "code",
   "execution_count": null,
   "id": "f4c01428",
   "metadata": {},
   "outputs": [],
   "source": []
  }
 ],
 "metadata": {
  "kernelspec": {
   "display_name": "PythonData",
   "language": "python",
   "name": "pythondata"
  },
  "language_info": {
   "codemirror_mode": {
    "name": "ipython",
    "version": 3
   },
   "file_extension": ".py",
   "mimetype": "text/x-python",
   "name": "python",
   "nbconvert_exporter": "python",
   "pygments_lexer": "ipython3",
   "version": "3.7.13"
  }
 },
 "nbformat": 4,
 "nbformat_minor": 5
}
